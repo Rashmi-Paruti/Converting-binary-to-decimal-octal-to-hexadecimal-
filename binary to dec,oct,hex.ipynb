{
 "cells": [
  {
   "cell_type": "markdown",
   "metadata": {},
   "source": [
    "# Develop a python program to convert binary to decimal, octal to hexadecimal using functions. "
   ]
  },
  {
   "cell_type": "code",
   "execution_count": 2,
   "metadata": {},
   "outputs": [
    {
     "name": "stdout",
     "output_type": "stream",
     "text": [
      "Enter a Number Here:10\n"
     ]
    }
   ],
   "source": [
    "#Initialize the Variables. \n",
    "decimal = int(input(\"Enter a Number Here:\")) "
   ]
  },
  {
   "cell_type": "code",
   "execution_count": 4,
   "metadata": {},
   "outputs": [
    {
     "name": "stdout",
     "output_type": "stream",
     "text": [
      "The Conversion of Decimal Number 10 is:\n",
      "0b1010 in Binary\n",
      "0o12 in Octal\n",
      "0xa in Hexa Decimal\n"
     ]
    }
   ],
   "source": [
    "print(\"The Conversion of Decimal Number\",decimal,\"is:\") \n",
    "#decimal number is converted into Binary \n",
    "print(bin(decimal),\"in Binary\") \n",
    "#decimal number is converted into Octal \n",
    "print(oct(decimal),\"in Octal\") \n",
    "#decimal number is converted into Hexa Decimal \n",
    "print(hex(decimal),\"in Hexa Decimal\")\n"
   ]
  }
 ],
 "metadata": {
  "kernelspec": {
   "display_name": "Python 3",
   "language": "python",
   "name": "python3"
  },
  "language_info": {
   "codemirror_mode": {
    "name": "ipython",
    "version": 3
   },
   "file_extension": ".py",
   "mimetype": "text/x-python",
   "name": "python",
   "nbconvert_exporter": "python",
   "pygments_lexer": "ipython3",
   "version": "3.7.4"
  }
 },
 "nbformat": 4,
 "nbformat_minor": 2
}
